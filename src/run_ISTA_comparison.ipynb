{
 "cells": [
  {
   "cell_type": "code",
   "execution_count": null,
   "metadata": {
    "id": "gUV9kKkyqTLZ"
   },
   "outputs": [],
   "source": [
    "import numpy as np\n",
    "import torch\n",
    "import torch.nn as nn\n",
    "import matplotlib.pyplot as plt\n",
    "import time\n",
    "\n",
    "torch.set_default_dtype(torch.float64)\n",
    "torch.manual_seed(0)\n",
    "device = 'cpu'"
   ]
  },
  {
   "cell_type": "code",
   "execution_count": null,
   "metadata": {
    "id": "fisbK4cV_jey"
   },
   "outputs": [],
   "source": [
    "def l1_norm(x):\n",
    "  # assumes shape of x is (n_samples x dim)\n",
    "  return torch.norm(x, dim=1, p=1)\n",
    "\n",
    "def l1_norm_noisy(x):\n",
    "  # assumes shape of x is (n_samples x dim)\n",
    "  W = torch.randn\n",
    "  return torch.norm(x, dim=1, p=1)\n",
    "\n",
    "def l1_norm_prox(x, t=0.5):\n",
    "  shrink = nn.Softshrink(lambd=t)\n",
    "  return shrink(x)"
   ]
  },
  {
   "cell_type": "markdown",
   "metadata": {
    "id": "y1IiwtfBCY7a"
   },
   "source": [
    "### Given gradient of Moreau envelope\n",
    "\\begin{equation}\n",
    "  \\nabla u^\\delta(x,t) = \\dfrac{1}{t}\\cdot  \\dfrac{\\mathbb{E}_{y\\sim  \\mathbb{P}_{x,t}}\\left[(x-y) \\exp\\left(-\\delta^{-1}\\tilde{f}(y)\\right) \\right]}\n",
    "    {\\mathbb{E}_{y\\sim  \\mathbb{P}_{x,t}}\\left[ \\exp\\left(-\\delta^{-1} \\tilde{f}(y)\\right) \\right]} = \\dfrac{1}{t} \\left(x -  \\dfrac{\\mathbb{E}_{y\\sim  \\mathbb{P}_{x,t}}\\left[(y) \\exp\\left(-\\delta^{-1}\\tilde{f}(y)\\right) \\right]}\n",
    "    {\\mathbb{E}_{y\\sim  \\mathbb{P}_{x,t}}\\left[ \\exp\\left(-\\delta^{-1} \\tilde{f}(y)\\right) \\right]}\\right)\n",
    "\\end{equation}\n",
    "\n",
    "The proximal can be approximated as\n",
    "\n",
    "\\begin{equation}\n",
    "  \\text{prox}_{tf}(x) = x - t \\nabla u(x,t)\n",
    "\\end{equation}"
   ]
  },
  {
   "cell_type": "code",
   "execution_count": null,
   "metadata": {
    "id": "9oGdum1Q_joh"
   },
   "outputs": [],
   "source": [
    "# approximate prox\n",
    "torch.manual_seed(9)\n",
    "def compute_prox(x, t, f, delta=1e-1, int_samples=100, alpha=1.0, linesearch_iters=0, device='cpu'):\n",
    "      ''' \n",
    "          compute prox.\n",
    "          input is a single vector x of size (dim x 1)\n",
    "      '''\n",
    "      assert(x.shape[1]==1)\n",
    "      assert(x.shape[0]>=1)\n",
    "      linesearch_iters +=1\n",
    "      standard_dev = np.sqrt(delta*t/alpha)\n",
    "\n",
    "      dim = x.shape[0]\n",
    "\n",
    "      y = standard_dev * torch.randn(int_samples, dim, device=device) + x.permute(1,0) # here y has shape (n_samples x dim)\n",
    "\n",
    "      # one of the main difficulties is division by small delta drives exp term to 0\n",
    "      # f assumes y has shape n_samples x dim\n",
    "      exp_term = torch.exp(-f(y)*(alpha/delta))\n",
    "\n",
    "      # if exponential zeros out, perform linesearch\n",
    "      bool_check = (exp_term > 0.0)\n",
    "      if bool_check.prod()==0.0:\n",
    "        # print('shrinking alpha')\n",
    "        alpha = 0.5*alpha\n",
    "        return compute_prox(x, t, f, delta=1e-1, int_samples=100, alpha=alpha, linesearch_iters=linesearch_iters, device=device)\n",
    "      else:\n",
    "        v_delta       = torch.mean(exp_term)\n",
    "        numerator = y*exp_term.view(int_samples, 1)\n",
    "        numerator = torch.mean(numerator, dim=0)\n",
    "\n",
    "        \n",
    "        prox_term = numerator/v_delta\n",
    "        prox_term = prox_term.view(-1, 1) \n",
    "\n",
    "        assert(prox_term.shape == x.shape)\n",
    "\n",
    "        # important, must add two tensors of shape (n_samples x 1).\n",
    "        # if one tensor is n_samples x 1 and the other is n_samples. The resulting addition is n_samples x n_samples! \n",
    "        bool_check2 = prox_term < np.inf \n",
    "        assert(bool_check2.prod())\n",
    "\n",
    "        envelope = -delta * torch.log(v_delta)\n",
    "\n",
    "        return prox_term, linesearch_iters, envelope"
   ]
  },
  {
   "cell_type": "markdown",
   "metadata": {
    "id": "sf3VWoA0cbRY"
   },
   "source": [
    "### Performing ISTA with prox_HJ"
   ]
  },
  {
   "cell_type": "code",
   "execution_count": null,
   "metadata": {
    "id": "NwVkm2B_cc_h"
   },
   "outputs": [],
   "source": [
    "dim = 1000\n",
    "A = torch.randn(int(dim/2), dim, device=device)\n",
    "# x_true = torch.zeros(dim,1, device=device)\n",
    "# x_true[500:600] = torch.randn(100, 1, device=device) \n",
    "# b = A.matmul(x_true)\n",
    "b = torch.randn(int(dim/2), 1, device=device)\n",
    "lambd = 1.0\n",
    "step_size = 5e-4\n",
    "\n",
    "def f(x, A, lambd = 1e-2): \n",
    "  # assumes x has shape n_samples x n_features\n",
    "  temp = A.matmul(x.permute(1,0)) - b # has n_features x n_samples\n",
    "  temp = temp.permute(1,0) # permute back to n_samples x n_features\n",
    "  return 0.5*torch.norm(temp, dim=1)**2 + lambd*torch.norm(x, p=1, dim=1)\n",
    "\n",
    "\n",
    "# ---------------------------------------------------------------------------------------------------\n",
    "# ISTA\n",
    "# ---------------------------------------------------------------------------------------------------\n",
    "def ista(x0, f, A, lambd, step_size, max_iters, tol=1e-6, verbose=True):\n",
    "\n",
    "  assert len(x0.shape)==2 and x0.shape[1]==1\n",
    "  xk = x0\n",
    "  xk_GD = x0 #########################################################\n",
    "  fk_hist = torch.zeros(max_iters)\n",
    "  norm_diff_hist = torch.zeros(max_iters)\n",
    "  fk_hist_GD = torch.zeros(max_iters)\n",
    "\n",
    "  for i in range(max_iters):\n",
    "\n",
    "    start_time = time.time()\n",
    "    yk = xk - step_size * A.t().matmul(A.matmul(xk)-b)\n",
    "    yk = l1_norm_prox(yk, t=lambd*step_size)\n",
    "\n",
    "    xk_GD =  xk_GD - step_size * A.t().matmul(A.matmul(xk_GD)-b) ######################################################\n",
    "\n",
    "    norm_diff = torch.norm(yk - xk)\n",
    "    fk = f(yk.permute(1,0), A, lambd=lambd) # need to input xk with dimensions (n_samples x 1)\n",
    "    fk_GD = f(xk_GD.permute(1,0), A, lambd=lambd) # need to input xk with dimensions (n_samples x 1) ##########################################\n",
    "\n",
    "    xk = yk.clone()\n",
    "\n",
    "    fk_hist[i] = fk.cpu()\n",
    "    fk_hist_GD[i] = fk_GD.cpu()\n",
    "    norm_diff_hist[i] = norm_diff.cpu()\n",
    "    \n",
    "    end_time = time.time()\n",
    "    iter_time = end_time - start_time\n",
    "\n",
    "    if verbose:\n",
    "      print('iter = ', i+1, ', f(xk) = ', fk.cpu(), ', norm_diff = ', norm_diff.cpu(), ', time = ', iter_time, fk_GD)\n",
    "\n",
    "    if norm_diff < tol:\n",
    "      fk_hist = fk_hist[0:i]\n",
    "      norm_diff_hist = norm_diff_hist[0:i]\n",
    "      fk_hist_GD = fk_hist_GD[0:i]\n",
    "      break\n",
    "\n",
    "  return xk, fk_hist, norm_diff_hist, fk_hist_GD\n",
    "\n",
    "# ---------------------------------------------------------------------------------------------------\n",
    "# HJ ISTA\n",
    "# ---------------------------------------------------------------------------------------------------\n",
    "def hj_ista(x0, f, A, lambd, step_size, max_iters, int_samples=100, delta=1e-1, tol=1e-6, verbose=True):\n",
    "\n",
    "  print('LAMBD = ', lambd)\n",
    "\n",
    "  assert len(x0.shape)==2 and x0.shape[1]==1\n",
    "  xk = x0\n",
    "  fk_hist = torch.zeros(max_iters)\n",
    "  norm_diff_hist = torch.zeros(max_iters)\n",
    "\n",
    "  for i in range(max_iters):\n",
    "\n",
    "    start_time = time.time()\n",
    "    yk = xk - step_size * A.t().matmul(A.matmul(xk)-b)\n",
    "    yk = yk, linesearch_iters, temo = compute_prox(yk, lambd*step_size, l1_norm, delta=delta, int_samples=int_samples, alpha=1.0, device=device)\n",
    "\n",
    "    norm_diff = torch.norm(yk - xk)\n",
    "    fk = f(xk.permute(1,0), A, lambd=lambd) # need to input xk with dimensions (n_samples x 1)\n",
    "\n",
    "    xk = yk\n",
    "\n",
    "    fk_hist[i] = fk.cpu()\n",
    "    norm_diff_hist[i] = norm_diff.cpu()\n",
    "    \n",
    "    end_time = time.time()\n",
    "    iter_time = end_time - start_time\n",
    "\n",
    "    if verbose:\n",
    "      print('iter = ', i, ', f(xk) = ', fk, ', norm_diff = ', norm_diff, ', linesearch = ', linesearch_iters, ', time = ', iter_time)\n",
    "\n",
    "    # if norm_diff < tol:\n",
    "    #   fk_hist = fk_hist[0:i]\n",
    "    #   norm_diff_hist = norm_diff_hist[0:i]\n",
    "    #   break\n",
    "\n",
    "  return xk, fk_hist, norm_diff_hist"
   ]
  },
  {
   "cell_type": "code",
   "execution_count": null,
   "metadata": {
    "colab": {
     "base_uri": "https://localhost:8080/"
    },
    "id": "oWwWqg6JegkZ",
    "outputId": "ecc4e9db-73ac-4f75-d787-957846eb3f1f"
   },
   "outputs": [],
   "source": [
    "x0 = torch.randn(A.shape[1], 1, device=device)\n",
    "\n",
    "# Compute numerical \"true\" solution f_star\n",
    "start_time_ista = time.time()\n",
    "xopt_ista, fk_ista_hist, norm_diff_ista_hist, fk_GD_hist = ista(x0, f, A, lambd, step_size, int(1e4), verbose=False)\n",
    "end_time_ista = time.time()\n",
    "\n",
    "time_ista = end_time_ista - start_time_ista\n",
    "print('ista finished running after ', time_ista)"
   ]
  },
  {
   "cell_type": "code",
   "execution_count": null,
   "metadata": {
    "colab": {
     "base_uri": "https://localhost:8080/"
    },
    "id": "AbLfBOcyIGBr",
    "outputId": "d4a13e1e-5080-43e9-920f-479cca35be4a"
   },
   "outputs": [],
   "source": [
    "f_star = min(fk_ista_hist); print('f_star = ', f_star)"
   ]
  },
  {
   "cell_type": "code",
   "execution_count": null,
   "metadata": {
    "colab": {
     "base_uri": "https://localhost:8080/"
    },
    "id": "8PTHv2DlNBtf",
    "outputId": "6c9f8dba-d323-4724-884b-e3f48c6103f1"
   },
   "outputs": [],
   "source": [
    "lambd"
   ]
  },
  {
   "cell_type": "code",
   "execution_count": null,
   "metadata": {
    "id": "c24oQmrhYHGQ"
   },
   "outputs": [],
   "source": [
    "max_iters = int(1e4)"
   ]
  },
  {
   "cell_type": "markdown",
   "metadata": {
    "id": "v8PAF6DC_P8a"
   },
   "source": [
    "#### Run HJ ISTA for different number of samples"
   ]
  },
  {
   "cell_type": "code",
   "execution_count": null,
   "metadata": {
    "colab": {
     "base_uri": "https://localhost:8080/"
    },
    "id": "I6w7kDqhBNir",
    "outputId": "524c4093-9413-428a-8c9c-18a50fdf56b7"
   },
   "outputs": [],
   "source": [
    "# Average runs over 30 trials: standalone\n",
    "n_trials = 30\n",
    "sample_array = [int(1e2), int(1e3), int(1e4)]\n",
    "\n",
    "xopt_HJ_ista_array = torch.zeros(len(sample_array), xopt_ista.shape[0], xopt_ista.shape[1])\n",
    "fk_HJ_ista_hist_array = torch.zeros(len(sample_array), max_iters)\n",
    "norm_diff_HJ_ista_hist_array = torch.zeros(len(sample_array), max_iters)\n",
    "\n",
    "for sample_index in range(len(sample_array)):\n",
    "  print('Number of Samples =', sample_array[sample_index])\n",
    "  for i in range(n_trials):\n",
    "    start_time_hj_ista = time.time()\n",
    "    current_samples = sample_array[sample_index]\n",
    "    xopt_HJ_ista_temp, fk_HJ_ista_hist_temp, norm_diff_HJ_ista_hist_temp = hj_ista(x0, f, A, lambd, step_size, max_iters, int_samples=current_samples, delta=1.0, verbose=False)\n",
    "    end_time_hj_ista = time.time()\n",
    "    time_hj_ista = end_time_hj_ista - start_time_hj_ista\n",
    "    print('trial ', i+1, ' finished after', time_hj_ista)\n",
    "    \n",
    "    if i==0:\n",
    "      xopt_HJ_ista, fk_HJ_ista_hist, norm_diff_HJ_ista_hist = xopt_HJ_ista_temp, fk_HJ_ista_hist_temp, norm_diff_HJ_ista_hist_temp\n",
    "    else:\n",
    "      xopt_HJ_ista = xopt_HJ_ista + xopt_HJ_ista_temp\n",
    "      fk_HJ_ista_hist = fk_HJ_ista_hist + fk_HJ_ista_hist_temp\n",
    "      norm_diff_HJ_ista_hist = norm_diff_HJ_ista_hist + norm_diff_HJ_ista_hist_temp\n",
    "\n",
    "  xopt_HJ_ista_array[sample_index, :, :] = xopt_HJ_ista/n_trials\n",
    "  fk_HJ_ista_hist_array[sample_index, :] = fk_HJ_ista_hist/n_trials\n",
    "  norm_diff_HJ_ista_hist_array[sample_index, :] = norm_diff_HJ_ista_hist/n_trials"
   ]
  },
  {
   "cell_type": "code",
   "execution_count": null,
   "metadata": {
    "colab": {
     "base_uri": "https://localhost:8080/"
    },
    "id": "qmvNYw-Sl6LO",
    "outputId": "c33d483f-e4eb-4ee8-f647-cd6e5b8e754d"
   },
   "outputs": [],
   "source": [
    "fk_HJ_ista_hist_array.shape"
   ]
  },
  {
   "cell_type": "code",
   "execution_count": null,
   "metadata": {
    "colab": {
     "base_uri": "https://localhost:8080/",
     "height": 288
    },
    "id": "Mk45D6kYBNku",
    "outputId": "216c3f7d-40a7-4cb7-8e93-8e75a4cb310f"
   },
   "outputs": [],
   "source": [
    "# plotting parameters\n",
    "title_fontsize = 22\n",
    "fontsize       = 20\n",
    "fig1 = plt.figure()\n",
    "my_blue = '#1f77b4'\n",
    "my_orange = '#F97306'\n",
    "\n",
    "fig1 = plt.figure()\n",
    "plt.style.use('seaborn-whitegrid')\n",
    "ax = plt.axes()\n",
    "\n",
    "f_star = 0.0\n",
    "\n",
    "ax.semilogy(fk_ista_hist[0:max_iters] - f_star, linewidth=5, color=my_orange)\n",
    "ax.semilogy(fk_GD_hist[0:max_iters] - f_star, linewidth=5, color='tab:brown')\n",
    "ax.semilogy(fk_HJ_ista_hist_array[0,:] - f_star, '--', linewidth=5, color=my_blue)\n",
    "ax.semilogy(fk_HJ_ista_hist_array[1,:] - f_star, '--', linewidth=5, color='tab:green')\n",
    "ax.semilogy(fk_HJ_ista_hist_array[2,:] - f_star, '--', linewidth=5, color='tab:purple')\n",
    "\n",
    "# fig1.set_figwidth(5.5)\n",
    "# fig1.set_figheight(5.4)\n",
    "\n",
    "# ax.set_xlabel(\"x-axis\", fontsize=title_fontsize)\n",
    "ax.legend(['ISTA', 'Gradient Descent', 'HJ-ISTA 100 Samples', 'HJ-ISTA 1K Samples', 'HJ-ISTA 10K Samples'],fontsize=fontsize, bbox_to_anchor=(1.0, 1.0), loc='upper left')\n",
    "ax.tick_params(labelsize=fontsize, which='both', direction='in')\n",
    "save_str = 'ISTA_sample_comparison.pdf'\n",
    "fig1.savefig(save_str, dpi=300 , bbox_inches=\"tight\", pad_inches=0.0)"
   ]
  },
  {
   "cell_type": "markdown",
   "metadata": {
    "id": "7g0CZZR6Mbz8"
   },
   "source": [
    "### HJ ISTA Delta Comparison"
   ]
  },
  {
   "cell_type": "code",
   "execution_count": null,
   "metadata": {
    "colab": {
     "base_uri": "https://localhost:8080/"
    },
    "id": "MECJpa6GMbDX",
    "outputId": "10a7cdcc-eaef-4d7b-82e3-51ba8638c858"
   },
   "outputs": [],
   "source": [
    "# Average runs over 30 trials: standalone\n",
    "delta_array = [1e-2, 1e-1, 1e0]\n",
    "\n",
    "xopt_HJ_ista_array = torch.zeros(len(delta_array), xopt_ista.shape[0], xopt_ista.shape[1])\n",
    "fk_HJ_ista_hist_array = torch.zeros(len(delta_array), max_iters)\n",
    "norm_diff_HJ_ista_hist_array = torch.zeros(len(delta_array), max_iters)\n",
    "\n",
    "for delta_index in range(len(delta_array)):\n",
    "  print('Delta Index =', delta_array[delta_index])\n",
    "  for i in range(n_trials):\n",
    "    start_time_hj_ista = time.time()\n",
    "    current_delta = delta_array[delta_index]\n",
    "    xopt_HJ_ista_temp, fk_HJ_ista_hist_temp, norm_diff_HJ_ista_hist_temp = hj_ista(x0, f, A, lambd, step_size, max_iters, int_samples=int(1e3), delta=current_delta, verbose=False)\n",
    "    end_time_hj_ista = time.time()\n",
    "    time_hj_ista = end_time_hj_ista - start_time_hj_ista\n",
    "    print('trial ', i+1, ' finished after', time_hj_ista)\n",
    "      \n",
    "    if i==0:\n",
    "      xopt_HJ_ista, fk_HJ_ista_hist, norm_diff_HJ_ista_hist = xopt_HJ_ista_temp, fk_HJ_ista_hist_temp, norm_diff_HJ_ista_hist_temp\n",
    "    else:\n",
    "      xopt_HJ_ista = xopt_HJ_ista + xopt_HJ_ista_temp\n",
    "      fk_HJ_ista_hist = fk_HJ_ista_hist + fk_HJ_ista_hist_temp\n",
    "      norm_diff_HJ_ista_hist = norm_diff_HJ_ista_hist + norm_diff_HJ_ista_hist_temp\n",
    "\n",
    "\n",
    "  xopt_HJ_ista_array[delta_index, :, :] = xopt_HJ_ista/n_trials\n",
    "  fk_HJ_ista_hist_array[delta_index, :] = fk_HJ_ista_hist/n_trials\n",
    "  norm_diff_HJ_ista_hist_array[delta_index, :] = norm_diff_HJ_ista_hist/n_trials"
   ]
  },
  {
   "cell_type": "code",
   "execution_count": null,
   "metadata": {
    "colab": {
     "base_uri": "https://localhost:8080/",
     "height": 288
    },
    "id": "_QuuoD6ZMbFe",
    "outputId": "8381bb36-416b-4dc7-8f83-8f5080b3ab53"
   },
   "outputs": [],
   "source": [
    "# plotting parameters\n",
    "title_fontsize = 22\n",
    "fontsize       = 20\n",
    "fig1 = plt.figure()\n",
    "my_blue = '#1f77b4'\n",
    "my_orange = '#F97306'\n",
    "\n",
    "fig1 = plt.figure()\n",
    "plt.style.use('seaborn-whitegrid')\n",
    "ax = plt.axes()\n",
    "\n",
    "ax.semilogy(fk_ista_hist[0:max_iters], linewidth=5, color=my_orange)\n",
    "ax.semilogy(fk_HJ_ista_hist_array[0,:], '--', linewidth=5, color=my_blue)\n",
    "ax.semilogy(fk_HJ_ista_hist_array[1,:], '--', linewidth=5, color='tab:green')\n",
    "ax.semilogy(fk_HJ_ista_hist_array[2,:], '--', linewidth=5, color='tab:purple')\n",
    "\n",
    "# ax.set_xlabel(\"x-axis\", fontsize=title_fontsize)\n",
    "ax.legend(['ISTA', 'HJ-ISTA $\\delta=0.01$', 'HJ-ISTA $\\delta=0.1$', 'HJ-ISTA $\\delta=1$',],fontsize=fontsize, bbox_to_anchor=(1.0, 1.0), loc='upper left')\n",
    "ax.tick_params(labelsize=fontsize, which='both', direction='in')\n",
    "save_str = 'ISTA_delta_comparison.pdf'\n",
    "fig1.savefig(save_str, dpi=300 , bbox_inches=\"tight\", pad_inches=0.0)"
   ]
  },
  {
   "cell_type": "code",
   "execution_count": null,
   "metadata": {
    "id": "TvT2s3W8NXaM"
   },
   "outputs": [],
   "source": []
  },
  {
   "cell_type": "code",
   "execution_count": null,
   "metadata": {
    "id": "wuhEFJhJMbHy"
   },
   "outputs": [],
   "source": []
  },
  {
   "cell_type": "code",
   "execution_count": null,
   "metadata": {
    "id": "0ObFGDDKMbJ7"
   },
   "outputs": [],
   "source": []
  },
  {
   "cell_type": "code",
   "execution_count": null,
   "metadata": {
    "id": "0W_uM0GpMbMJ"
   },
   "outputs": [],
   "source": []
  },
  {
   "cell_type": "code",
   "execution_count": null,
   "metadata": {
    "id": "Bbflb-S7MbOY"
   },
   "outputs": [],
   "source": []
  },
  {
   "cell_type": "code",
   "execution_count": null,
   "metadata": {
    "id": "Cf55eLOaMbQi"
   },
   "outputs": [],
   "source": []
  }
 ],
 "metadata": {
  "accelerator": "GPU",
  "colab": {
   "provenance": []
  },
  "gpuClass": "premium",
  "kernelspec": {
   "display_name": "hjprox_env",
   "language": "python",
   "name": "hjprox_env"
  },
  "language_info": {
   "codemirror_mode": {
    "name": "ipython",
    "version": 3
   },
   "file_extension": ".py",
   "mimetype": "text/x-python",
   "name": "python",
   "nbconvert_exporter": "python",
   "pygments_lexer": "ipython3",
   "version": "3.7.4"
  }
 },
 "nbformat": 4,
 "nbformat_minor": 1
}
